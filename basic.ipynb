{
 "cells": [
  {
   "cell_type": "code",
   "execution_count": null,
   "id": "d3b99ffe",
   "metadata": {},
   "outputs": [],
   "source": [
    "from google.colab import drive\n",
    "drive.mount(\"/content/drive\")"
   ]
  },
  {
   "cell_type": "code",
   "execution_count": null,
   "id": "846004f0",
   "metadata": {},
   "outputs": [],
   "source": [
    "img_dir = ('/content/drive/MyDrive/image_classifier/dataset')"
   ]
  },
  {
   "cell_type": "code",
   "execution_count": null,
   "id": "46578c56",
   "metadata": {},
   "outputs": [],
   "source": [
    "from keras.models import Sequential\n",
    "from keras.layers import Dense, Conv2D, MaxPool2D , Flatten\n",
    "from keras.preprocessing.image import ImageDataGenerator\n",
    "import keras\n",
    "import numpy as np\n",
    "import tensorflow as tf\n",
    "from tensorflow import keras\n",
    "from tensorflow.keras import layers\n",
    "import tensorflow_hub as hub\n",
    "import matplotlib.pyplot as plt"
   ]
  },
  {
   "cell_type": "code",
   "execution_count": null,
   "id": "902f360e",
   "metadata": {},
   "outputs": [],
   "source": [
    "data_args = dict(rescale=1./255, validation_split=.20)"
   ]
  },
  {
   "cell_type": "code",
   "execution_count": null,
   "id": "5f9903ee",
   "metadata": {},
   "outputs": [],
   "source": [
    "bag_train = tf.keras.preprocessing.image.ImageDataGenerator(**data_args)\n",
    "\n",
    "train_gen = bag_train.flow_from_directory(\n",
    "img_dir,\n",
    "subset=\"training\",\n",
    "shuffle=True,\n",
    "target_size=(224, 224))\n",
    "\n",
    "\n",
    "bag_val = tf.keras.preprocessing.image.ImageDataGenerator(**data_args)\n",
    "\n",
    "val_gen = bag_val.flow_from_directory(\n",
    "img_dir,\n",
    "subset=\"validation\",\n",
    "shuffle=True,\n",
    "target_size=(224, 224))"
   ]
  },
  {
   "cell_type": "code",
   "execution_count": null,
   "id": "5cc67f3f",
   "metadata": {},
   "outputs": [],
   "source": [
    "for image_batch, label_batch in train_gen:\n",
    "  break\n",
    "  image_batch.shape, label_batch.shape"
   ]
  },
  {
   "cell_type": "code",
   "execution_count": null,
   "id": "e3f478fb",
   "metadata": {},
   "outputs": [],
   "source": [
    "print (train_gen.class_indices)"
   ]
  },
  {
   "cell_type": "code",
   "execution_count": null,
   "id": "008928c8",
   "metadata": {},
   "outputs": [],
   "source": [
    "base_model = tf.keras.Sequential([\n",
    " hub.KerasLayer(\"https://tfhub.dev/google/tf2-preview/mobilenet_v2/feature_vector/4\", \n",
    " output_shape=[1280],\n",
    " trainable=False),\n",
    " tf.keras.layers.Dropout(0.4),\n",
    " tf.keras.layers.Dense(train_gen.num_classes, activation='softmax')\n",
    "])\n",
    "base_model.build([None, 224, 224, 3])\n",
    "base_model.summary()"
   ]
  },
  {
   "cell_type": "code",
   "execution_count": null,
   "id": "7e808f58",
   "metadata": {},
   "outputs": [],
   "source": [
    "optimizer = tf.keras.optimizers.Adam(lr=0.001)\n",
    "\n",
    "base_model.compile(\n",
    " optimizer=optimizer,\n",
    " loss= 'categorical_crossentropy',\n",
    " metrics=['accuracy'])"
   ]
  },
  {
   "cell_type": "code",
   "execution_count": null,
   "id": "989c00ac",
   "metadata": {},
   "outputs": [],
   "source": [
    "epochs=10\n",
    "history = base_model.fit(\n",
    "  train_gen,\n",
    "  validation_data = val_gen,\n",
    "  epochs = epochs\n",
    ")"
   ]
  },
  {
   "cell_type": "code",
   "execution_count": null,
   "id": "2dc8b588",
   "metadata": {},
   "outputs": [],
   "source": [
    "acc = history.history['accuracy']\n",
    "val_acc = history.history['val_accuracy']\n",
    "\n",
    "loss = history.history['loss']\n",
    "val_loss = history.history['val_loss']\n",
    "\n",
    "epochs_range = range(epochs)\n",
    "\n",
    "plt.figure(figsize=(8, 8))\n",
    "plt.subplot(1, 2, 1)\n",
    "plt.plot(epochs_range, acc, label='Training Accuracy')\n",
    "plt.plot(epochs_range, val_acc, label='Validation Accuracy')\n",
    "plt.legend(loc='lower right')\n",
    "plt.title('Training and Validation Accuracy')\n",
    "\n",
    "plt.subplot(1, 2, 2)\n",
    "plt.plot(epochs_range, loss, label='Training Loss')\n",
    "plt.plot(epochs_range, val_loss, label='Validation Loss')\n",
    "plt.legend(loc='upper right')\n",
    "plt.title('Training and Validation Loss')\n",
    "plt.show()"
   ]
  },
  {
   "cell_type": "code",
   "execution_count": null,
   "id": "317a6b25",
   "metadata": {},
   "outputs": [],
   "source": [
    "import pickle\n",
    "from sklearn.externals import joblib "
   ]
  },
  {
   "cell_type": "code",
   "execution_count": null,
   "id": "dd42d5bc",
   "metadata": {},
   "outputs": [],
   "source": [
    "file_dir = '/content/drive/MyDrive/image_classifier/model.h5'\n",
    "base_model.save(file_dir)"
   ]
  },
  {
   "cell_type": "code",
   "execution_count": null,
   "id": "793bc0e0",
   "metadata": {},
   "outputs": [],
   "source": []
  }
 ],
 "metadata": {
  "kernelspec": {
   "display_name": "Python 3",
   "language": "python",
   "name": "python3"
  },
  "language_info": {
   "codemirror_mode": {
    "name": "ipython",
    "version": 3
   },
   "file_extension": ".py",
   "mimetype": "text/x-python",
   "name": "python",
   "nbconvert_exporter": "python",
   "pygments_lexer": "ipython3",
   "version": "3.8.11"
  }
 },
 "nbformat": 4,
 "nbformat_minor": 5
}
